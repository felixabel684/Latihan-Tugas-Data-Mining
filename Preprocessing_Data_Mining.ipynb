{
  "nbformat": 4,
  "nbformat_minor": 0,
  "metadata": {
    "colab": {
      "provenance": [],
      "include_colab_link": true
    },
    "kernelspec": {
      "name": "python3",
      "display_name": "Python 3"
    }
  },
  "cells": [
    {
      "cell_type": "markdown",
      "metadata": {
        "id": "view-in-github",
        "colab_type": "text"
      },
      "source": [
        "<a href=\"https://colab.research.google.com/github/felixabel684/Latihan-Tugas-Data-Mining/blob/main/Preprocessing_Data_Mining.ipynb\" target=\"_parent\"><img src=\"https://colab.research.google.com/assets/colab-badge.svg\" alt=\"Open In Colab\"/></a>"
      ]
    },
    {
      "cell_type": "code",
      "metadata": {
        "id": "2DKDpXsb8Tym"
      },
      "source": [
        "import numpy as np\n",
        "import matplotlib.pyplot as plt\n",
        "import pandas as pd"
      ],
      "execution_count": 39,
      "outputs": []
    },
    {
      "cell_type": "code",
      "metadata": {
        "id": "JPDFYyq7G_RF"
      },
      "source": [
        "dataset = pd.read_csv('Data2.csv')\n",
        "x = dataset.iloc[:, :-1].values\n",
        "y = dataset.iloc[:, -1].values"
      ],
      "execution_count": 40,
      "outputs": []
    },
    {
      "cell_type": "code",
      "metadata": {
        "colab": {
          "base_uri": "https://localhost:8080/"
        },
        "id": "kb9GarmBH-8Z",
        "outputId": "35ca68e1-5b83-496b-b167-b1f28bd56fdc"
      },
      "source": [
        "print(x)"
      ],
      "execution_count": 41,
      "outputs": [
        {
          "output_type": "stream",
          "name": "stdout",
          "text": [
            "[['Brazil' 44.0 72000.0]\n",
            " ['Sweden' 27.0 48000.0]\n",
            " ['Germany' 33.0 54000.0]\n",
            " ['Spain' nan 61000.0]\n",
            " ['China' 40.0 81000.0]\n",
            " ['France' 35.0 58000.0]\n",
            " ['Japan' 28.0 52000.0]\n",
            " ['Germany' 48.0 nan]\n",
            " ['Japan' 51.0 83000.0]\n",
            " ['Germany' 37.0 62000.0]]\n"
          ]
        }
      ]
    },
    {
      "cell_type": "code",
      "metadata": {
        "colab": {
          "base_uri": "https://localhost:8080/"
        },
        "id": "fPYNdjZzIR6J",
        "outputId": "83b58a86-8fbd-4c73-cd1f-b06a4358b56f"
      },
      "source": [
        "print(y)"
      ],
      "execution_count": 42,
      "outputs": [
        {
          "output_type": "stream",
          "name": "stdout",
          "text": [
            "['No' 'Yes' 'No' 'No' 'Yes' 'No' 'Yes' 'Yes' 'No' 'Yes']\n"
          ]
        }
      ]
    },
    {
      "cell_type": "code",
      "metadata": {
        "id": "tliVpM6bIgu9"
      },
      "source": [
        "from sklearn.impute import SimpleImputer\n",
        "imputer = SimpleImputer(missing_values=np.nan, strategy='mean')\n",
        "imputer.fit(x[:, 1:3])\n",
        "x[:, 1:3] = imputer.transform(x[:, 1:3])"
      ],
      "execution_count": 43,
      "outputs": []
    },
    {
      "cell_type": "code",
      "metadata": {
        "colab": {
          "base_uri": "https://localhost:8080/"
        },
        "id": "-dmcXYMLJcDf",
        "outputId": "5d49e4a8-b8e2-4961-95c8-c9ad29df2c17"
      },
      "source": [
        "print(x)"
      ],
      "execution_count": 44,
      "outputs": [
        {
          "output_type": "stream",
          "name": "stdout",
          "text": [
            "[['Brazil' 44.0 72000.0]\n",
            " ['Sweden' 27.0 48000.0]\n",
            " ['Germany' 33.0 54000.0]\n",
            " ['Spain' 38.111111111111114 61000.0]\n",
            " ['China' 40.0 81000.0]\n",
            " ['France' 35.0 58000.0]\n",
            " ['Japan' 28.0 52000.0]\n",
            " ['Germany' 48.0 63444.444444444445]\n",
            " ['Japan' 51.0 83000.0]\n",
            " ['Germany' 37.0 62000.0]]\n"
          ]
        }
      ]
    },
    {
      "cell_type": "code",
      "metadata": {
        "id": "PTFBpzBBJt65"
      },
      "source": [
        "from sklearn.compose import ColumnTransformer\n",
        "from sklearn.preprocessing import OneHotEncoder\n",
        "ct = ColumnTransformer(transformers=[('encoder', OneHotEncoder(), [0])], remainder='passthrough')\n",
        "x = np.array(ct.fit_transform(x))"
      ],
      "execution_count": 45,
      "outputs": []
    },
    {
      "cell_type": "code",
      "metadata": {
        "colab": {
          "base_uri": "https://localhost:8080/"
        },
        "id": "P_9GQ4P3KuNV",
        "outputId": "8f5890cf-3599-40e5-bbca-d0741cceb68c"
      },
      "source": [
        "print(x)"
      ],
      "execution_count": 47,
      "outputs": [
        {
          "output_type": "stream",
          "name": "stdout",
          "text": [
            "[[1.0 0.0 0.0 0.0 0.0 0.0 0.0 44.0 72000.0]\n",
            " [0.0 0.0 0.0 0.0 0.0 0.0 1.0 27.0 48000.0]\n",
            " [0.0 0.0 0.0 1.0 0.0 0.0 0.0 33.0 54000.0]\n",
            " [0.0 0.0 0.0 0.0 0.0 1.0 0.0 38.111111111111114 61000.0]\n",
            " [0.0 1.0 0.0 0.0 0.0 0.0 0.0 40.0 81000.0]\n",
            " [0.0 0.0 1.0 0.0 0.0 0.0 0.0 35.0 58000.0]\n",
            " [0.0 0.0 0.0 0.0 1.0 0.0 0.0 28.0 52000.0]\n",
            " [0.0 0.0 0.0 1.0 0.0 0.0 0.0 48.0 63444.444444444445]\n",
            " [0.0 0.0 0.0 0.0 1.0 0.0 0.0 51.0 83000.0]\n",
            " [0.0 0.0 0.0 1.0 0.0 0.0 0.0 37.0 62000.0]]\n"
          ]
        }
      ]
    },
    {
      "cell_type": "code",
      "metadata": {
        "id": "c73-6zWjLBgo"
      },
      "source": [
        "from sklearn.preprocessing import LabelEncoder\n",
        "le = LabelEncoder()\n",
        "y = le.fit_transform(y)"
      ],
      "execution_count": 48,
      "outputs": []
    },
    {
      "cell_type": "code",
      "metadata": {
        "colab": {
          "base_uri": "https://localhost:8080/"
        },
        "id": "Go3MqGP-LS5P",
        "outputId": "4cfcfc8f-6502-43e1-fdc4-a1b142485a42"
      },
      "source": [
        "print(y)"
      ],
      "execution_count": 49,
      "outputs": [
        {
          "output_type": "stream",
          "name": "stdout",
          "text": [
            "[0 1 0 0 1 0 1 1 0 1]\n"
          ]
        }
      ]
    },
    {
      "cell_type": "code",
      "metadata": {
        "id": "-fBBg0UWLryt"
      },
      "source": [
        "from sklearn.model_selection import train_test_split\n",
        "x_train, x_test, y_train, y_test = train_test_split(x, y, test_size=0.2, random_state=1)"
      ],
      "execution_count": 51,
      "outputs": []
    },
    {
      "cell_type": "code",
      "metadata": {
        "colab": {
          "base_uri": "https://localhost:8080/"
        },
        "id": "h4nkKTl6MXuJ",
        "outputId": "87db0bd4-beb2-4ca9-fff0-27acf3963187"
      },
      "source": [
        "print(x_train)"
      ],
      "execution_count": 52,
      "outputs": [
        {
          "output_type": "stream",
          "name": "stdout",
          "text": [
            "[[0.0 0.0 0.0 0.0 1.0 0.0 0.0 28.0 52000.0]\n",
            " [0.0 1.0 0.0 0.0 0.0 0.0 0.0 40.0 81000.0]\n",
            " [1.0 0.0 0.0 0.0 0.0 0.0 0.0 44.0 72000.0]\n",
            " [0.0 0.0 0.0 0.0 0.0 1.0 0.0 38.111111111111114 61000.0]\n",
            " [0.0 0.0 0.0 0.0 0.0 0.0 1.0 27.0 48000.0]\n",
            " [0.0 0.0 0.0 1.0 0.0 0.0 0.0 48.0 63444.444444444445]\n",
            " [0.0 0.0 0.0 0.0 1.0 0.0 0.0 51.0 83000.0]\n",
            " [0.0 0.0 1.0 0.0 0.0 0.0 0.0 35.0 58000.0]]\n"
          ]
        }
      ]
    },
    {
      "cell_type": "code",
      "metadata": {
        "colab": {
          "base_uri": "https://localhost:8080/"
        },
        "id": "oVehWU-sMoX7",
        "outputId": "638574a5-c54f-4fdb-9d16-83d30799ff9a"
      },
      "source": [
        "print(x_test)"
      ],
      "execution_count": 53,
      "outputs": [
        {
          "output_type": "stream",
          "name": "stdout",
          "text": [
            "[[0.0 0.0 0.0 1.0 0.0 0.0 0.0 33.0 54000.0]\n",
            " [0.0 0.0 0.0 1.0 0.0 0.0 0.0 37.0 62000.0]]\n"
          ]
        }
      ]
    },
    {
      "cell_type": "code",
      "metadata": {
        "colab": {
          "base_uri": "https://localhost:8080/"
        },
        "id": "HOqPlt8xMwaD",
        "outputId": "af8263f7-36fe-41f5-f494-43ad00feab79"
      },
      "source": [
        "print(y_train)"
      ],
      "execution_count": 54,
      "outputs": [
        {
          "output_type": "stream",
          "name": "stdout",
          "text": [
            "[1 1 0 0 1 1 0 0]\n"
          ]
        }
      ]
    },
    {
      "cell_type": "code",
      "metadata": {
        "colab": {
          "base_uri": "https://localhost:8080/"
        },
        "id": "KjwFgNXiM15F",
        "outputId": "34359eb8-ae9c-4422-ec33-cf6a66c1fa88"
      },
      "source": [
        "print(y_test)"
      ],
      "execution_count": 55,
      "outputs": [
        {
          "output_type": "stream",
          "name": "stdout",
          "text": [
            "[0 1]\n"
          ]
        }
      ]
    },
    {
      "cell_type": "code",
      "metadata": {
        "id": "8wPE4Hb5NLhP"
      },
      "source": [
        "from sklearn.preprocessing import StandardScaler\n",
        "sc = StandardScaler()\n",
        "x_train[:, 3:] = sc.fit_transform(x_train[:, 3:])\n",
        "x_test[:, 3:] = sc.transform(x_test[:, 3:])"
      ],
      "execution_count": 56,
      "outputs": []
    },
    {
      "cell_type": "code",
      "metadata": {
        "colab": {
          "base_uri": "https://localhost:8080/"
        },
        "id": "dJVHGwyZOC6U",
        "outputId": "ade30177-a7fd-4c16-c8c8-7f2e717a93c2"
      },
      "source": [
        "print(x_train)"
      ],
      "execution_count": 60,
      "outputs": [
        {
          "output_type": "stream",
          "name": "stdout",
          "text": [
            "[[0.0 0.0 0.0 -0.3779644730092272 1.7320508075688774 -0.3779644730092272\n",
            "  -0.3779644730092272 -1.3344144438112333 -1.066150329833471]\n",
            " [0.0 1.0 0.0 -0.3779644730092272 -0.5773502691896258 -0.3779644730092272\n",
            "  -0.3779644730092272 0.136164739164412 1.3482985733035002]\n",
            " [1.0 0.0 0.0 -0.3779644730092272 -0.5773502691896258 -0.3779644730092272\n",
            "  -0.3779644730092272 0.6263578001562937 0.5989868447437505]\n",
            " [0.0 0.0 0.0 -0.3779644730092272 -0.5773502691896258 2.6457513110645903\n",
            "  -0.3779644730092272 -0.09531531741508734 -0.3168386012737212]\n",
            " [0.0 0.0 0.0 -0.3779644730092272 -0.5773502691896258 -0.3779644730092272\n",
            "  2.6457513110645903 -1.4569627090592037 -1.3991777647489152]\n",
            " [0.0 0.0 0.0 2.6457513110645903 -0.5773502691896258 -0.3779644730092272\n",
            "  -0.3779644730092272 1.1165508611481754 -0.11332183549206076]\n",
            " [0.0 0.0 0.0 -0.3779644730092272 1.7320508075688774 -0.3779644730092272\n",
            "  -0.3779644730092272 1.4841956568920869 1.5148122907612223]\n",
            " [0.0 0.0 1.0 -0.3779644730092272 -0.5773502691896258 -0.3779644730092272\n",
            "  -0.3779644730092272 -0.4765765870754402 -0.5666091774603044]]\n"
          ]
        }
      ]
    },
    {
      "cell_type": "code",
      "metadata": {
        "id": "uVN7n0clOOTM",
        "colab": {
          "base_uri": "https://localhost:8080/"
        },
        "outputId": "52855ded-5f9d-4fc1-f0b5-f3ccbbbfa049"
      },
      "source": [
        "print(x_test)"
      ],
      "execution_count": 61,
      "outputs": [
        {
          "output_type": "stream",
          "name": "stdout",
          "text": [
            "[[0.0 0.0 0.0 2.6457513110645903 -0.5773502691896258 -0.3779644730092272\n",
            "  -0.3779644730092272 -0.7216731175713811 -0.8996366123757487]\n",
            " [0.0 0.0 0.0 2.6457513110645903 -0.5773502691896258 -0.3779644730092272\n",
            "  -0.3779644730092272 -0.23148005657949933 -0.23358174254486014]]\n"
          ]
        }
      ]
    }
  ]
}